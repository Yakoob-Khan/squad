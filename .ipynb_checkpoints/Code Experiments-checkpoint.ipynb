{
 "cells": [
  {
   "cell_type": "code",
   "execution_count": 4,
   "metadata": {},
   "outputs": [
    {
     "name": "stdout",
     "output_type": "stream",
     "text": [
      "# conda environments:\r\n",
      "#\r\n",
      "base                     /Users/yakoobkhan/miniconda3\r\n",
      "env_pytorch              /Users/yakoobkhan/miniconda3/envs/env_pytorch\r\n",
      "                         /opt/anaconda3\r\n",
      "                         /opt/anaconda3/envs/cs224n\r\n",
      "                         /opt/anaconda3/envs/env_pytorch\r\n",
      "                         /opt/anaconda3/envs/exercise-1\r\n",
      "                         /opt/anaconda3/envs/r-tutorial\r\n",
      "                      *  /opt/anaconda3/envs/squad\r\n",
      "\r\n"
     ]
    }
   ],
   "source": [
    "!conda env list"
   ]
  },
  {
   "cell_type": "code",
   "execution_count": 5,
   "metadata": {},
   "outputs": [
    {
     "name": "stdout",
     "output_type": "stream",
     "text": [
      "Downloading GloVe word vectors...\n",
      "glove.840B.300d.zip: 2.18GB [18:54, 1.92MB/s]                                   \n",
      "Unzipping GloVe word vectors...\n",
      "Downloading spacy language model...\n",
      "Collecting en_core_web_sm==2.0.0\n",
      "  Downloading https://github.com/explosion/spacy-models/releases/download/en_core_web_sm-2.0.0/en_core_web_sm-2.0.0.tar.gz (37.4 MB)\n",
      "\u001b[K     |████████████████████████████████| 37.4 MB 3.0 MB/s eta 0:00:01    |█████▎                          | 6.1 MB 3.0 MB/s eta 0:00:11     |████████▋                       | 10.1 MB 2.7 MB/s eta 0:00:11     |███████████████████▍            | 22.6 MB 517 kB/s eta 0:00:29     |█████████████████████████       | 29.1 MB 2.4 MB/s eta 0:00:04     |██████████████████████████▏     | 30.5 MB 3.3 MB/s eta 0:00:03     |██████████████████████████████▍ | 35.5 MB 3.6 MB/s eta 0:00:01\n",
      "\u001b[?25hBuilding wheels for collected packages: en-core-web-sm\n",
      "  Building wheel for en-core-web-sm (setup.py) ... \u001b[?25ldone\n",
      "\u001b[?25h  Created wheel for en-core-web-sm: filename=en_core_web_sm-2.0.0-py3-none-any.whl size=37405976 sha256=824e39a748e033100fe54c905c2ce79582e2e2faf6365ed6b0ced6e65cdae782\n",
      "  Stored in directory: /private/var/folders/y_/3vd_83ps4d120bs5y38zs82c0000gn/T/pip-ephem-wheel-cache-gf7_gyyg/wheels/eb/1a/34/e8e3f55df7db1d8a368d9f861a0d2bd760c10f6ca8ea501515\n",
      "Successfully built en-core-web-sm\n",
      "Installing collected packages: en-core-web-sm\n",
      "Successfully installed en-core-web-sm-2.0.0\n",
      "\n",
      "\u001b[93m    Linking successful\u001b[0m\n",
      "    /opt/anaconda3/envs/squad/lib/python3.6/site-packages/en_core_web_sm -->\n",
      "    /opt/anaconda3/envs/squad/lib/python3.6/site-packages/spacy/data/en\n",
      "\n",
      "    You can now load the model via spacy.load('en')\n",
      "\n",
      "Pre-processing train examples...\n",
      "100%|█████████████████████████████████████████| 442/442 [05:44<00:00,  1.28it/s]\n",
      "130319 questions in total\n",
      "Pre-processing word vectors...\n",
      "2196018it [09:10, 3991.96it/s]                                                  \n",
      "88712 / 107454 tokens have corresponding word embedding vector\n",
      "Pre-processing char vectors...\n",
      "1374 tokens have corresponding char embedding vector\n",
      "Pre-processing dev examples...\n",
      "100%|███████████████████████████████████████████| 16/16 [00:38<00:00,  2.42s/it]\n",
      "6078 questions in total\n",
      "Converting train examples to indices...\n",
      "130319it [02:20, 929.60it/s] \n",
      "Built 129941 / 130319 instances of features in total\n",
      "Converting dev examples to indices...\n",
      "6078it [00:08, 700.44it/s] \n",
      "Built 5951 / 6078 instances of features in total\n",
      "Pre-processing test examples...\n",
      "100%|███████████████████████████████████████████| 20/20 [00:11<00:00,  1.74it/s]\n",
      "5915 questions in total\n",
      "Saving test eval...\n",
      "Converting test examples to indices...\n",
      "5915it [00:03, 1568.53it/s]\n",
      "Built 5915 / 5915 instances of features in total\n",
      "Saving test meta...\n",
      "Saving word embedding...\n",
      "Saving char embedding...\n",
      "Saving train eval...\n",
      "Saving dev eval...\n",
      "Saving word dictionary...\n",
      "Saving char dictionary...\n",
      "Saving dev meta...\n"
     ]
    }
   ],
   "source": [
    "!python setup.py"
   ]
  },
  {
   "cell_type": "code",
   "execution_count": null,
   "metadata": {
    "scrolled": true
   },
   "outputs": [
    {
     "name": "stdout",
     "output_type": "stream",
     "text": [
      "[05.23.20 23:58:46] Args: {\n",
      "    \"batch_size\": 64,\n",
      "    \"char_emb_file\": \"./data/char_emb.json\",\n",
      "    \"dev_eval_file\": \"./data/dev_eval.json\",\n",
      "    \"dev_record_file\": \"./data/dev.npz\",\n",
      "    \"drop_prob\": 0.2,\n",
      "    \"ema_decay\": 0.999,\n",
      "    \"eval_steps\": 50000,\n",
      "    \"gpu_ids\": [],\n",
      "    \"hidden_size\": 100,\n",
      "    \"l2_wd\": 0,\n",
      "    \"load_path\": null,\n",
      "    \"lr\": 0.5,\n",
      "    \"max_ans_len\": 15,\n",
      "    \"max_checkpoints\": 5,\n",
      "    \"max_grad_norm\": 5.0,\n",
      "    \"maximize_metric\": true,\n",
      "    \"metric_name\": \"F1\",\n",
      "    \"name\": \"baseline\",\n",
      "    \"num_epochs\": 30,\n",
      "    \"num_visuals\": 10,\n",
      "    \"num_workers\": 4,\n",
      "    \"save_dir\": \"./save/train/baseline-02\",\n",
      "    \"seed\": 224,\n",
      "    \"test_eval_file\": \"./data/test_eval.json\",\n",
      "    \"test_record_file\": \"./data/test.npz\",\n",
      "    \"train_eval_file\": \"./data/train_eval.json\",\n",
      "    \"train_record_file\": \"./data/train.npz\",\n",
      "    \"use_squad_v2\": true,\n",
      "    \"word_emb_file\": \"./data/word_emb.json\"\n",
      "}\n",
      "[05.23.20 23:58:46] Using random seed 224...\n",
      "[05.23.20 23:58:46] Loading embeddings...\n",
      "[05.23.20 23:58:57] Building model...\n",
      "[05.23.20 23:58:57] Saver will maximize F1...\n",
      "[05.23.20 23:58:57] Building dataset...\n",
      "[05.24.20 00:00:54] Training...\n",
      "[05.24.20 00:00:54] Starting epoch 1...\n",
      "  1%|                | 704/129941 [07:11<20:30:38,  1.75it/s, NLL=9.49, epoch=1]"
     ]
    }
   ],
   "source": [
    "!python train.py -n baseline"
   ]
  },
  {
   "cell_type": "code",
   "execution_count": null,
   "metadata": {},
   "outputs": [],
   "source": []
  }
 ],
 "metadata": {
  "kernelspec": {
   "display_name": "Python 3",
   "language": "python",
   "name": "python3"
  },
  "language_info": {
   "codemirror_mode": {
    "name": "ipython",
    "version": 3
   },
   "file_extension": ".py",
   "mimetype": "text/x-python",
   "name": "python",
   "nbconvert_exporter": "python",
   "pygments_lexer": "ipython3",
   "version": "3.7.3"
  }
 },
 "nbformat": 4,
 "nbformat_minor": 2
}
