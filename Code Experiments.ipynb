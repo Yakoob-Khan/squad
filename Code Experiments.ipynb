{
 "cells": [
  {
   "cell_type": "code",
   "execution_count": 1,
   "metadata": {},
   "outputs": [
    {
     "name": "stdout",
     "output_type": "stream",
     "text": [
      "# conda environments:\r\n",
      "#\r\n",
      "base                     /Users/yakoobkhan/miniconda3\r\n",
      "env_pytorch              /Users/yakoobkhan/miniconda3/envs/env_pytorch\r\n",
      "                         /opt/anaconda3\r\n",
      "                         /opt/anaconda3/envs/cs224n\r\n",
      "                         /opt/anaconda3/envs/env_pytorch\r\n",
      "                         /opt/anaconda3/envs/exercise-1\r\n",
      "                         /opt/anaconda3/envs/r-tutorial\r\n",
      "                      *  /opt/anaconda3/envs/squad\r\n",
      "\r\n"
     ]
    }
   ],
   "source": [
    "!conda env list"
   ]
  },
  {
   "cell_type": "code",
   "execution_count": 2,
   "metadata": {},
   "outputs": [
    {
     "name": "stdout",
     "output_type": "stream",
     "text": [
      "Downloading GloVe word vectors...\n",
      "glove.840B.300d.zip: 2.18GB [23:57, 1.51MB/s]                                   \n",
      "Unzipping GloVe word vectors...\n",
      "Downloading spacy language model...\n",
      "Requirement already satisfied: en_core_web_sm==2.0.0 from https://github.com/explosion/spacy-models/releases/download/en_core_web_sm-2.0.0/en_core_web_sm-2.0.0.tar.gz#egg=en_core_web_sm==2.0.0 in /opt/anaconda3/envs/squad/lib/python3.6/site-packages (2.0.0)\n",
      "\n",
      "\u001b[93m    Linking successful\u001b[0m\n",
      "    /opt/anaconda3/envs/squad/lib/python3.6/site-packages/en_core_web_sm -->\n",
      "    /opt/anaconda3/envs/squad/lib/python3.6/site-packages/spacy/data/en\n",
      "\n",
      "    You can now load the model via spacy.load('en')\n",
      "\n",
      "Pre-processing train examples...\n",
      "100%|█████████████████████████████████████████| 442/442 [03:27<00:00,  2.13it/s]\n",
      "87599 questions in total\n",
      "Pre-processing word vectors...\n",
      "2196018it [06:07, 5970.34it/s]                                                  \n",
      "86822 / 104510 tokens have corresponding word embedding vector\n",
      "Pre-processing char vectors...\n",
      "1372 tokens have corresponding char embedding vector\n",
      "Pre-processing dev examples...\n",
      "100%|███████████████████████████████████████████| 16/16 [00:08<00:00,  1.89it/s]\n",
      "6078 questions in total\n",
      "Converting train examples to indices...\n",
      "87599it [01:12, 1202.45it/s]\n",
      "Built 87358 / 87599 instances of features in total\n",
      "Converting dev examples to indices...\n",
      "6078it [00:07, 784.28it/s] \n",
      "Built 5951 / 6078 instances of features in total\n",
      "Pre-processing test examples...\n",
      "100%|███████████████████████████████████████████| 20/20 [00:09<00:00,  2.14it/s]\n",
      "5915 questions in total\n",
      "Saving test eval...\n",
      "Converting test examples to indices...\n",
      "5915it [00:06, 892.55it/s] \n",
      "Built 5915 / 5915 instances of features in total\n",
      "Saving test meta...\n",
      "Saving word embedding...\n",
      "Saving char embedding...\n",
      "Saving train eval...\n",
      "Saving dev eval...\n",
      "Saving word dictionary...\n",
      "Saving char dictionary...\n",
      "Saving dev meta...\n"
     ]
    }
   ],
   "source": [
    "!python setup.py"
   ]
  },
  {
   "cell_type": "code",
   "execution_count": null,
   "metadata": {},
   "outputs": [
    {
     "name": "stdout",
     "output_type": "stream",
     "text": [
      "[05.23.20 23:58:46] Args: {\n",
      "    \"batch_size\": 64,\n",
      "    \"char_emb_file\": \"./data/char_emb.json\",\n",
      "    \"dev_eval_file\": \"./data/dev_eval.json\",\n",
      "    \"dev_record_file\": \"./data/dev.npz\",\n",
      "    \"drop_prob\": 0.2,\n",
      "    \"ema_decay\": 0.999,\n",
      "    \"eval_steps\": 50000,\n",
      "    \"gpu_ids\": [],\n",
      "    \"hidden_size\": 100,\n",
      "    \"l2_wd\": 0,\n",
      "    \"load_path\": null,\n",
      "    \"lr\": 0.5,\n",
      "    \"max_ans_len\": 15,\n",
      "    \"max_checkpoints\": 5,\n",
      "    \"max_grad_norm\": 5.0,\n",
      "    \"maximize_metric\": true,\n",
      "    \"metric_name\": \"F1\",\n",
      "    \"name\": \"baseline\",\n",
      "    \"num_epochs\": 30,\n",
      "    \"num_visuals\": 10,\n",
      "    \"num_workers\": 4,\n",
      "    \"save_dir\": \"./save/train/baseline-02\",\n",
      "    \"seed\": 224,\n",
      "    \"test_eval_file\": \"./data/test_eval.json\",\n",
      "    \"test_record_file\": \"./data/test.npz\",\n",
      "    \"train_eval_file\": \"./data/train_eval.json\",\n",
      "    \"train_record_file\": \"./data/train.npz\",\n",
      "    \"use_squad_v2\": true,\n",
      "    \"word_emb_file\": \"./data/word_emb.json\"\n",
      "}\n",
      "[05.23.20 23:58:46] Using random seed 224...\n",
      "[05.23.20 23:58:46] Loading embeddings...\n",
      "[05.23.20 23:58:57] Building model...\n",
      "[05.23.20 23:58:57] Saver will maximize F1...\n",
      "[05.23.20 23:58:57] Building dataset...\n",
      "[05.24.20 00:00:54] Training...\n",
      "[05.24.20 00:00:54] Starting epoch 1...\n",
      "  1%|▏               | 1728/129941 [18:00<21:32:02,  1.65it/s, NLL=7.7, epoch=1]"
     ]
    }
   ],
   "source": [
    "!python train.py -n baseline"
   ]
  },
  {
   "cell_type": "code",
   "execution_count": null,
   "metadata": {},
   "outputs": [],
   "source": []
  }
 ],
 "metadata": {
  "kernelspec": {
   "display_name": "Python 3",
   "language": "python",
   "name": "python3"
  },
  "language_info": {
   "codemirror_mode": {
    "name": "ipython",
    "version": 3
   },
   "file_extension": ".py",
   "mimetype": "text/x-python",
   "name": "python",
   "nbconvert_exporter": "python",
   "pygments_lexer": "ipython3",
   "version": "3.7.3"
  }
 },
 "nbformat": 4,
 "nbformat_minor": 2
}
